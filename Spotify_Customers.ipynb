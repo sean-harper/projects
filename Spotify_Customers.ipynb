{
 "cells": [
  {
   "cell_type": "code",
   "execution_count": 634,
   "id": "0448a248",
   "metadata": {},
   "outputs": [],
   "source": [
    "import pandas as pd\n",
    "import matplotlib.pyplot as plt"
   ]
  },
  {
   "cell_type": "code",
   "execution_count": 7,
   "id": "d425d89d",
   "metadata": {},
   "outputs": [],
   "source": [
    "s= pd.read_excel(r\"C:\\Users\\Spotify_data.xlsx\")  #Reading an EXCEL file"
   ]
  },
  {
   "cell_type": "code",
   "execution_count": 9,
   "id": "bdcb742e",
   "metadata": {},
   "outputs": [
    {
     "data": {
      "text/plain": [
       "(520, 20)"
      ]
     },
     "execution_count": 9,
     "metadata": {},
     "output_type": "execute_result"
    }
   ],
   "source": [
    "s.shape"
   ]
  },
  {
   "cell_type": "code",
   "execution_count": 35,
   "id": "dfd267f3",
   "metadata": {},
   "outputs": [
    {
     "data": {
      "text/plain": [
       "Age                            object\n",
       "Gender                         object\n",
       "spotify_usage_period           object\n",
       "spotify_listening_device       object\n",
       "spotify_subscription_plan      object\n",
       "premium_sub_willingness        object\n",
       "preffered_premium_plan         object\n",
       "preferred_listening_content    object\n",
       "fav_music_genre                object\n",
       "music_time_slot                object\n",
       "music_Influencial_mood         object\n",
       "music_lis_frequency            object\n",
       "music_expl_method              object\n",
       "music_recc_rating               int64\n",
       "pod_lis_frequency              object\n",
       "fav_pod_genre                  object\n",
       "preffered_pod_format           object\n",
       "pod_host_preference            object\n",
       "preffered_pod_duration         object\n",
       "pod_variety_satisfaction       object\n",
       "dtype: object"
      ]
     },
     "execution_count": 35,
     "metadata": {},
     "output_type": "execute_result"
    }
   ],
   "source": [
    "s.dtypes"
   ]
  },
  {
   "cell_type": "code",
   "execution_count": 306,
   "id": "da147d5d",
   "metadata": {},
   "outputs": [
    {
     "data": {
      "text/html": [
       "<div>\n",
       "<style scoped>\n",
       "    .dataframe tbody tr th:only-of-type {\n",
       "        vertical-align: middle;\n",
       "    }\n",
       "\n",
       "    .dataframe tbody tr th {\n",
       "        vertical-align: top;\n",
       "    }\n",
       "\n",
       "    .dataframe thead th {\n",
       "        text-align: right;\n",
       "    }\n",
       "</style>\n",
       "<table border=\"1\" class=\"dataframe\">\n",
       "  <thead>\n",
       "    <tr style=\"text-align: right;\">\n",
       "      <th></th>\n",
       "      <th>Age</th>\n",
       "      <th>Gender</th>\n",
       "      <th>spotify_usage_period</th>\n",
       "      <th>spotify_listening_device</th>\n",
       "      <th>spotify_subscription_plan</th>\n",
       "      <th>premium_sub_willingness</th>\n",
       "      <th>preffered_premium_plan</th>\n",
       "      <th>preferred_listening_content</th>\n",
       "      <th>fav_music_genre</th>\n",
       "      <th>music_time_slot</th>\n",
       "      <th>music_Influencial_mood</th>\n",
       "      <th>music_lis_frequency</th>\n",
       "      <th>music_expl_method</th>\n",
       "      <th>music_recc_rating</th>\n",
       "      <th>pod_lis_frequency</th>\n",
       "      <th>fav_pod_genre</th>\n",
       "      <th>preffered_pod_format</th>\n",
       "      <th>pod_host_preference</th>\n",
       "      <th>preffered_pod_duration</th>\n",
       "      <th>pod_variety_satisfaction</th>\n",
       "    </tr>\n",
       "  </thead>\n",
       "  <tbody>\n",
       "    <tr>\n",
       "      <th>0</th>\n",
       "      <td>20-35</td>\n",
       "      <td>Female</td>\n",
       "      <td>More than 2 years</td>\n",
       "      <td>Smart speakers or voice assistants</td>\n",
       "      <td>Free (ad-supported)</td>\n",
       "      <td>Yes</td>\n",
       "      <td>Family Plan-Rs 179/month</td>\n",
       "      <td>Podcast</td>\n",
       "      <td>Melody</td>\n",
       "      <td>Night</td>\n",
       "      <td>Sadness or melancholy</td>\n",
       "      <td>leisure time</td>\n",
       "      <td>Playlists</td>\n",
       "      <td>3</td>\n",
       "      <td>Daily</td>\n",
       "      <td>Comedy</td>\n",
       "      <td>Interview</td>\n",
       "      <td>Both</td>\n",
       "      <td>Both</td>\n",
       "      <td>Ok</td>\n",
       "    </tr>\n",
       "    <tr>\n",
       "      <th>1</th>\n",
       "      <td>12-20</td>\n",
       "      <td>Male</td>\n",
       "      <td>More than 2 years</td>\n",
       "      <td>Computer or laptop</td>\n",
       "      <td>Free (ad-supported)</td>\n",
       "      <td>Yes</td>\n",
       "      <td>Individual Plan- Rs 119/ month</td>\n",
       "      <td>Podcast</td>\n",
       "      <td>Rap</td>\n",
       "      <td>Afternoon</td>\n",
       "      <td>Social gatherings or parties</td>\n",
       "      <td>Workout session</td>\n",
       "      <td>Playlists</td>\n",
       "      <td>2</td>\n",
       "      <td>Several times a week</td>\n",
       "      <td>Comedy</td>\n",
       "      <td>Interview</td>\n",
       "      <td>Both</td>\n",
       "      <td>NaN</td>\n",
       "      <td>Satisfied</td>\n",
       "    </tr>\n",
       "    <tr>\n",
       "      <th>2</th>\n",
       "      <td>35-60</td>\n",
       "      <td>Others</td>\n",
       "      <td>6 months to 1 year</td>\n",
       "      <td>Smart speakers or voice assistants</td>\n",
       "      <td>Free (ad-supported)</td>\n",
       "      <td>Yes</td>\n",
       "      <td>Student Plan-Rs 59/month</td>\n",
       "      <td>Podcast</td>\n",
       "      <td>Pop</td>\n",
       "      <td>Night</td>\n",
       "      <td>Relaxation and stress relief</td>\n",
       "      <td>Study Hours, While Traveling</td>\n",
       "      <td>Playlists</td>\n",
       "      <td>4</td>\n",
       "      <td>Once a week</td>\n",
       "      <td>Sports</td>\n",
       "      <td>Interview</td>\n",
       "      <td>NaN</td>\n",
       "      <td>Both</td>\n",
       "      <td>Satisfied</td>\n",
       "    </tr>\n",
       "    <tr>\n",
       "      <th>3</th>\n",
       "      <td>20-35</td>\n",
       "      <td>Female</td>\n",
       "      <td>1 year to 2 years</td>\n",
       "      <td>Smartphone, Smart speakers or voice assistants</td>\n",
       "      <td>Free (ad-supported)</td>\n",
       "      <td>No</td>\n",
       "      <td>NaN</td>\n",
       "      <td>Music</td>\n",
       "      <td>Melody</td>\n",
       "      <td>Night</td>\n",
       "      <td>Relaxation and stress relief, Social gathering...</td>\n",
       "      <td>Office hours, Workout session, leisure time</td>\n",
       "      <td>recommendations, Playlists</td>\n",
       "      <td>4</td>\n",
       "      <td>Never</td>\n",
       "      <td>NaN</td>\n",
       "      <td>NaN</td>\n",
       "      <td>NaN</td>\n",
       "      <td>NaN</td>\n",
       "      <td>Ok</td>\n",
       "    </tr>\n",
       "    <tr>\n",
       "      <th>4</th>\n",
       "      <td>20-35</td>\n",
       "      <td>Female</td>\n",
       "      <td>1 year to 2 years</td>\n",
       "      <td>Smartphone</td>\n",
       "      <td>Free (ad-supported)</td>\n",
       "      <td>No</td>\n",
       "      <td>NaN</td>\n",
       "      <td>Music</td>\n",
       "      <td>Melody</td>\n",
       "      <td>Night</td>\n",
       "      <td>Relaxation and stress relief</td>\n",
       "      <td>leisure time</td>\n",
       "      <td>recommendations, Playlists</td>\n",
       "      <td>4</td>\n",
       "      <td>Rarely</td>\n",
       "      <td>Lifestyle and Health</td>\n",
       "      <td>Story telling</td>\n",
       "      <td>Well known individuals</td>\n",
       "      <td>Both</td>\n",
       "      <td>Ok</td>\n",
       "    </tr>\n",
       "    <tr>\n",
       "      <th>5</th>\n",
       "      <td>20-35</td>\n",
       "      <td>Male</td>\n",
       "      <td>More than 2 years</td>\n",
       "      <td>Smartphone</td>\n",
       "      <td>Free (ad-supported)</td>\n",
       "      <td>No</td>\n",
       "      <td>NaN</td>\n",
       "      <td>Music</td>\n",
       "      <td>Pop</td>\n",
       "      <td>Night</td>\n",
       "      <td>Uplifting and motivational</td>\n",
       "      <td>Workout session</td>\n",
       "      <td>Others</td>\n",
       "      <td>3</td>\n",
       "      <td>Never</td>\n",
       "      <td>NaN</td>\n",
       "      <td>NaN</td>\n",
       "      <td>NaN</td>\n",
       "      <td>NaN</td>\n",
       "      <td>Ok</td>\n",
       "    </tr>\n",
       "    <tr>\n",
       "      <th>6</th>\n",
       "      <td>20-35</td>\n",
       "      <td>Female</td>\n",
       "      <td>1 year to 2 years</td>\n",
       "      <td>Smartphone</td>\n",
       "      <td>Free (ad-supported)</td>\n",
       "      <td>No</td>\n",
       "      <td>NaN</td>\n",
       "      <td>Music</td>\n",
       "      <td>Melody</td>\n",
       "      <td>Morning</td>\n",
       "      <td>Relaxation and stress relief</td>\n",
       "      <td>Office hours</td>\n",
       "      <td>recommendations</td>\n",
       "      <td>3</td>\n",
       "      <td>Never</td>\n",
       "      <td>NaN</td>\n",
       "      <td>NaN</td>\n",
       "      <td>NaN</td>\n",
       "      <td>NaN</td>\n",
       "      <td>Ok</td>\n",
       "    </tr>\n",
       "    <tr>\n",
       "      <th>7</th>\n",
       "      <td>20-35</td>\n",
       "      <td>Female</td>\n",
       "      <td>Less than 6 months</td>\n",
       "      <td>Smartphone</td>\n",
       "      <td>Free (ad-supported)</td>\n",
       "      <td>No</td>\n",
       "      <td>NaN</td>\n",
       "      <td>Music</td>\n",
       "      <td>Melody</td>\n",
       "      <td>Night</td>\n",
       "      <td>Social gatherings or parties</td>\n",
       "      <td>leisure time</td>\n",
       "      <td>recommendations</td>\n",
       "      <td>5</td>\n",
       "      <td>Several times a week</td>\n",
       "      <td>Lifestyle and Health</td>\n",
       "      <td>Conversational</td>\n",
       "      <td>Both</td>\n",
       "      <td>Longer</td>\n",
       "      <td>Satisfied</td>\n",
       "    </tr>\n",
       "    <tr>\n",
       "      <th>8</th>\n",
       "      <td>20-35</td>\n",
       "      <td>Female</td>\n",
       "      <td>Less than 6 months</td>\n",
       "      <td>Smartphone</td>\n",
       "      <td>Free (ad-supported)</td>\n",
       "      <td>Yes</td>\n",
       "      <td>Individual Plan- Rs 119/ month</td>\n",
       "      <td>Music</td>\n",
       "      <td>Melody</td>\n",
       "      <td>Afternoon</td>\n",
       "      <td>Relaxation and stress relief, Uplifting and mo...</td>\n",
       "      <td>While Traveling, leisure time</td>\n",
       "      <td>Playlists, Radio</td>\n",
       "      <td>4</td>\n",
       "      <td>Rarely</td>\n",
       "      <td>Comedy</td>\n",
       "      <td>Story telling</td>\n",
       "      <td>Well known individuals</td>\n",
       "      <td>Shorter</td>\n",
       "      <td>Satisfied</td>\n",
       "    </tr>\n",
       "    <tr>\n",
       "      <th>9</th>\n",
       "      <td>20-35</td>\n",
       "      <td>Female</td>\n",
       "      <td>More than 2 years</td>\n",
       "      <td>Smartphone</td>\n",
       "      <td>Free (ad-supported)</td>\n",
       "      <td>No</td>\n",
       "      <td>NaN</td>\n",
       "      <td>Music</td>\n",
       "      <td>Melody</td>\n",
       "      <td>Night</td>\n",
       "      <td>Relaxation and stress relief</td>\n",
       "      <td>Office hours, While Traveling, Workout session</td>\n",
       "      <td>recommendations</td>\n",
       "      <td>4</td>\n",
       "      <td>Never</td>\n",
       "      <td>NaN</td>\n",
       "      <td>NaN</td>\n",
       "      <td>NaN</td>\n",
       "      <td>NaN</td>\n",
       "      <td>Ok</td>\n",
       "    </tr>\n",
       "  </tbody>\n",
       "</table>\n",
       "</div>"
      ],
      "text/plain": [
       "     Age  Gender spotify_usage_period  \\\n",
       "0  20-35  Female    More than 2 years   \n",
       "1  12-20    Male    More than 2 years   \n",
       "2  35-60  Others   6 months to 1 year   \n",
       "3  20-35  Female    1 year to 2 years   \n",
       "4  20-35  Female    1 year to 2 years   \n",
       "5  20-35    Male    More than 2 years   \n",
       "6  20-35  Female    1 year to 2 years   \n",
       "7  20-35  Female   Less than 6 months   \n",
       "8  20-35  Female   Less than 6 months   \n",
       "9  20-35  Female    More than 2 years   \n",
       "\n",
       "                         spotify_listening_device spotify_subscription_plan  \\\n",
       "0              Smart speakers or voice assistants       Free (ad-supported)   \n",
       "1                              Computer or laptop       Free (ad-supported)   \n",
       "2              Smart speakers or voice assistants       Free (ad-supported)   \n",
       "3  Smartphone, Smart speakers or voice assistants       Free (ad-supported)   \n",
       "4                                      Smartphone       Free (ad-supported)   \n",
       "5                                      Smartphone       Free (ad-supported)   \n",
       "6                                      Smartphone       Free (ad-supported)   \n",
       "7                                      Smartphone       Free (ad-supported)   \n",
       "8                                      Smartphone       Free (ad-supported)   \n",
       "9                                      Smartphone       Free (ad-supported)   \n",
       "\n",
       "  premium_sub_willingness          preffered_premium_plan  \\\n",
       "0                     Yes        Family Plan-Rs 179/month   \n",
       "1                     Yes  Individual Plan- Rs 119/ month   \n",
       "2                     Yes        Student Plan-Rs 59/month   \n",
       "3                      No                             NaN   \n",
       "4                      No                             NaN   \n",
       "5                      No                             NaN   \n",
       "6                      No                             NaN   \n",
       "7                      No                             NaN   \n",
       "8                     Yes  Individual Plan- Rs 119/ month   \n",
       "9                      No                             NaN   \n",
       "\n",
       "  preferred_listening_content fav_music_genre music_time_slot  \\\n",
       "0                     Podcast          Melody           Night   \n",
       "1                     Podcast             Rap       Afternoon   \n",
       "2                     Podcast             Pop           Night   \n",
       "3                       Music          Melody           Night   \n",
       "4                       Music          Melody           Night   \n",
       "5                       Music             Pop           Night   \n",
       "6                       Music          Melody         Morning   \n",
       "7                       Music          Melody           Night   \n",
       "8                       Music          Melody       Afternoon   \n",
       "9                       Music          Melody           Night   \n",
       "\n",
       "                              music_Influencial_mood  \\\n",
       "0                              Sadness or melancholy   \n",
       "1                       Social gatherings or parties   \n",
       "2                       Relaxation and stress relief   \n",
       "3  Relaxation and stress relief, Social gathering...   \n",
       "4                       Relaxation and stress relief   \n",
       "5                         Uplifting and motivational   \n",
       "6                       Relaxation and stress relief   \n",
       "7                       Social gatherings or parties   \n",
       "8  Relaxation and stress relief, Uplifting and mo...   \n",
       "9                       Relaxation and stress relief   \n",
       "\n",
       "                              music_lis_frequency           music_expl_method  \\\n",
       "0                                    leisure time                   Playlists   \n",
       "1                                 Workout session                   Playlists   \n",
       "2                    Study Hours, While Traveling                   Playlists   \n",
       "3     Office hours, Workout session, leisure time  recommendations, Playlists   \n",
       "4                                    leisure time  recommendations, Playlists   \n",
       "5                                 Workout session                      Others   \n",
       "6                                    Office hours             recommendations   \n",
       "7                                    leisure time             recommendations   \n",
       "8                   While Traveling, leisure time            Playlists, Radio   \n",
       "9  Office hours, While Traveling, Workout session             recommendations   \n",
       "\n",
       "   music_recc_rating     pod_lis_frequency         fav_pod_genre  \\\n",
       "0                  3                 Daily                Comedy   \n",
       "1                  2  Several times a week                Comedy   \n",
       "2                  4           Once a week                Sports   \n",
       "3                  4                 Never                   NaN   \n",
       "4                  4                Rarely  Lifestyle and Health   \n",
       "5                  3                 Never                   NaN   \n",
       "6                  3                 Never                   NaN   \n",
       "7                  5  Several times a week  Lifestyle and Health   \n",
       "8                  4                Rarely                Comedy   \n",
       "9                  4                 Never                   NaN   \n",
       "\n",
       "  preffered_pod_format     pod_host_preference preffered_pod_duration  \\\n",
       "0            Interview                    Both                   Both   \n",
       "1            Interview                    Both                    NaN   \n",
       "2            Interview                     NaN                   Both   \n",
       "3                  NaN                     NaN                    NaN   \n",
       "4        Story telling  Well known individuals                   Both   \n",
       "5                  NaN                     NaN                    NaN   \n",
       "6                  NaN                     NaN                    NaN   \n",
       "7       Conversational                    Both                 Longer   \n",
       "8        Story telling  Well known individuals                Shorter   \n",
       "9                  NaN                     NaN                    NaN   \n",
       "\n",
       "  pod_variety_satisfaction  \n",
       "0                       Ok  \n",
       "1                Satisfied  \n",
       "2                Satisfied  \n",
       "3                       Ok  \n",
       "4                       Ok  \n",
       "5                       Ok  \n",
       "6                       Ok  \n",
       "7                Satisfied  \n",
       "8                Satisfied  \n",
       "9                       Ok  "
      ]
     },
     "execution_count": 306,
     "metadata": {},
     "output_type": "execute_result"
    }
   ],
   "source": [
    "s.head(10)"
   ]
  },
  {
   "cell_type": "code",
   "execution_count": 529,
   "id": "18097961",
   "metadata": {},
   "outputs": [
    {
     "data": {
      "text/plain": [
       "<Axes: xlabel='Gender'>"
      ]
     },
     "execution_count": 529,
     "metadata": {},
     "output_type": "execute_result"
    },
    {
     "data": {
      "image/png": "[encoded data removed]",
      "text/plain": [
       "<Figure size 640x480 with 1 Axes>"
      ]
     },
     "metadata": {},
     "output_type": "display_data"
    }
   ],
   "source": [
    "# Gender usage Count\n",
    "# More Female users than the rest\n",
    "color = ['red', 'blue', 'purple']\n",
    "s['Gender'].value_counts().plot.bar(color=color) # Gender_Count"
   ]
  },
  {
   "cell_type": "code",
   "execution_count": 13,
   "id": "d186037f",
   "metadata": {},
   "outputs": [
    {
     "data": {
      "text/plain": [
       "Age\n",
       "20-35    0.811538\n",
       "12-20    0.136538\n",
       "35-60    0.044231\n",
       "6-12     0.005769\n",
       "60+      0.001923\n",
       "Name: count, dtype: float64"
      ]
     },
     "execution_count": 13,
     "metadata": {},
     "output_type": "execute_result"
    }
   ],
   "source": [
    "#Percentage of users from various age groups\n",
    "# 20-35 ie Early Adults has more users using Spotify\n",
    "\n",
    "s['Age'].value_counts()/ len(s['Age'])    "
   ]
  },
  {
   "cell_type": "code",
   "execution_count": 307,
   "id": "99faaa03",
   "metadata": {},
   "outputs": [
    {
     "data": {
      "text/html": [
       "<div>\n",
       "<style scoped>\n",
       "    .dataframe tbody tr th:only-of-type {\n",
       "        vertical-align: middle;\n",
       "    }\n",
       "\n",
       "    .dataframe tbody tr th {\n",
       "        vertical-align: top;\n",
       "    }\n",
       "\n",
       "    .dataframe thead th {\n",
       "        text-align: right;\n",
       "    }\n",
       "</style>\n",
       "<table border=\"1\" class=\"dataframe\">\n",
       "  <thead>\n",
       "    <tr style=\"text-align: right;\">\n",
       "      <th></th>\n",
       "      <th>Minimum_Usage_Period</th>\n",
       "      <th>Maximum_Usage_Period</th>\n",
       "      <th>No_of_users</th>\n",
       "    </tr>\n",
       "    <tr>\n",
       "      <th>Age</th>\n",
       "      <th></th>\n",
       "      <th></th>\n",
       "      <th></th>\n",
       "    </tr>\n",
       "  </thead>\n",
       "  <tbody>\n",
       "    <tr>\n",
       "      <th>20-35</th>\n",
       "      <td>1 year to 2 years</td>\n",
       "      <td>More than 2 years</td>\n",
       "      <td>422</td>\n",
       "    </tr>\n",
       "    <tr>\n",
       "      <th>12-20</th>\n",
       "      <td>1 year to 2 years</td>\n",
       "      <td>More than 2 years</td>\n",
       "      <td>71</td>\n",
       "    </tr>\n",
       "    <tr>\n",
       "      <th>35-60</th>\n",
       "      <td>1 year to 2 years</td>\n",
       "      <td>More than 2 years</td>\n",
       "      <td>23</td>\n",
       "    </tr>\n",
       "    <tr>\n",
       "      <th>6-12</th>\n",
       "      <td>1 year to 2 years</td>\n",
       "      <td>More than 2 years</td>\n",
       "      <td>3</td>\n",
       "    </tr>\n",
       "    <tr>\n",
       "      <th>60+</th>\n",
       "      <td>1 year to 2 years</td>\n",
       "      <td>1 year to 2 years</td>\n",
       "      <td>1</td>\n",
       "    </tr>\n",
       "  </tbody>\n",
       "</table>\n",
       "</div>"
      ],
      "text/plain": [
       "      Minimum_Usage_Period Maximum_Usage_Period  No_of_users\n",
       "Age                                                         \n",
       "20-35    1 year to 2 years    More than 2 years          422\n",
       "12-20    1 year to 2 years    More than 2 years           71\n",
       "35-60    1 year to 2 years    More than 2 years           23\n",
       "6-12     1 year to 2 years    More than 2 years            3\n",
       "60+      1 year to 2 years    1 year to 2 years            1"
      ]
     },
     "execution_count": 307,
     "metadata": {},
     "output_type": "execute_result"
    }
   ],
   "source": [
    "# Usage period of Age groups\n",
    "s.groupby('Age')['spotify_usage_period'].agg(Minimum_Usage_Period=('min'),Maximum_Usage_Period=('max'),No_of_users=('count')).sort_values('No_of_users',ascending=False)"
   ]
  },
  {
   "cell_type": "code",
   "execution_count": 399,
   "id": "67a2f810",
   "metadata": {},
   "outputs": [
    {
     "data": {
      "text/html": [
       "<div>\n",
       "<style scoped>\n",
       "    .dataframe tbody tr th:only-of-type {\n",
       "        vertical-align: middle;\n",
       "    }\n",
       "\n",
       "    .dataframe tbody tr th {\n",
       "        vertical-align: top;\n",
       "    }\n",
       "\n",
       "    .dataframe thead th {\n",
       "        text-align: right;\n",
       "    }\n",
       "</style>\n",
       "<table border=\"1\" class=\"dataframe\">\n",
       "  <thead>\n",
       "    <tr style=\"text-align: right;\">\n",
       "      <th>spotify_subscription_plan</th>\n",
       "      <th>Free (ad-supported)</th>\n",
       "      <th>Premium (paid subscription)</th>\n",
       "    </tr>\n",
       "    <tr>\n",
       "      <th>Age</th>\n",
       "      <th></th>\n",
       "      <th></th>\n",
       "    </tr>\n",
       "  </thead>\n",
       "  <tbody>\n",
       "    <tr>\n",
       "      <th>12-20</th>\n",
       "      <td>49</td>\n",
       "      <td>22</td>\n",
       "    </tr>\n",
       "    <tr>\n",
       "      <th>20-35</th>\n",
       "      <td>356</td>\n",
       "      <td>66</td>\n",
       "    </tr>\n",
       "    <tr>\n",
       "      <th>35-60</th>\n",
       "      <td>17</td>\n",
       "      <td>6</td>\n",
       "    </tr>\n",
       "    <tr>\n",
       "      <th>6-12</th>\n",
       "      <td>1</td>\n",
       "      <td>2</td>\n",
       "    </tr>\n",
       "    <tr>\n",
       "      <th>60+</th>\n",
       "      <td>1</td>\n",
       "      <td>0</td>\n",
       "    </tr>\n",
       "  </tbody>\n",
       "</table>\n",
       "</div>"
      ],
      "text/plain": [
       "spotify_subscription_plan  Free (ad-supported)  Premium (paid subscription)\n",
       "Age                                                                        \n",
       "12-20                                       49                           22\n",
       "20-35                                      356                           66\n",
       "35-60                                       17                            6\n",
       "6-12                                         1                            2\n",
       "60+                                          1                            0"
      ]
     },
     "execution_count": 399,
     "metadata": {},
     "output_type": "execute_result"
    }
   ],
   "source": [
    "pd.crosstab(s['Age'],s['spotify_subscription_plan'])"
   ]
  },
  {
   "cell_type": "code",
   "execution_count": 37,
   "id": "2eba691e",
   "metadata": {},
   "outputs": [
    {
     "data": {
      "text/plain": [
       "spotify_listening_device\n",
       "Smartphone                                                                              300\n",
       "Computer or laptop                                                                       54\n",
       "Smartphone, Computer or laptop                                                           48\n",
       "Smart speakers or voice assistants                                                       43\n",
       "Computer or laptop, Smart speakers or voice assistants                                   14\n",
       "Smartphone, Smart speakers or voice assistants                                           10\n",
       "Smartphone, Wearable devices                                                              8\n",
       "Smartphone, Computer or laptop, Smart speakers or voice assistants, Wearable devices      8\n",
       "Wearable devices                                                                          8\n",
       "Smartphone, Computer or laptop, Smart speakers or voice assistants                        7\n",
       "Smartphone, Computer or laptop, Wearable devices                                          5\n",
       "Computer or laptop, Wearable devices                                                      5\n",
       "Smartphone, Smart speakers or voice assistants, Wearable devices                          5\n",
       "Computer or laptop, Smart speakers or voice assistants, Wearable devices                  3\n",
       "Smart speakers or voice assistants, Wearable devices                                      2\n",
       "Name: count, dtype: int64"
      ]
     },
     "execution_count": 37,
     "metadata": {},
     "output_type": "execute_result"
    }
   ],
   "source": [
    "# Smartphone is mostly used\n",
    "# Updating the smartphone version of application and adding more feature could be a good choice\n",
    "s['spotify_listening_device'].value_counts() "
   ]
  },
  {
   "cell_type": "code",
   "execution_count": 41,
   "id": "530ec2fe",
   "metadata": {},
   "outputs": [
    {
     "data": {
      "text/plain": [
       "Text(0, 0.5, 'Number of Devices')"
      ]
     },
     "execution_count": 41,
     "metadata": {},
     "output_type": "execute_result"
    },
    {
     "data": {
      "image/png": "[encoded data removed]",
      "text/plain": [
       "<Figure size 640x480 with 1 Axes>"
      ]
     },
     "metadata": {},
     "output_type": "display_data"
    }
   ],
   "source": [
    "s['spotify_listening_device'].str.contains('Smartphone').value_counts().plot.bar()  #Includes Smartphone is the list of devices\n",
    "plt.xlabel('Smartphone as a streaming device')\n",
    "plt.ylabel('Number of Devices')"
   ]
  },
  {
   "cell_type": "code",
   "execution_count": 164,
   "id": "bbc3ce09",
   "metadata": {},
   "outputs": [
    {
     "data": {
      "text/plain": [
       "Text(0.5, 1.0, 'Top 5 popular Genres')"
      ]
     },
     "execution_count": 164,
     "metadata": {},
     "output_type": "execute_result"
    },
    {
     "data": {
      "image/png": "[encoded data removed]",
      "text/plain": [
       "<Figure size 640x480 with 1 Axes>"
      ]
     },
     "metadata": {},
     "output_type": "display_data"
    }
   ],
   "source": [
    "# Top popular Genres\n",
    "s['fav_music_genre'].value_counts().head(5)\n",
    "myexplode = [0.025, 0, 0, 0,0]\n",
    "s['fav_music_genre'].value_counts().head(5).plot.pie(explode=myexplode, wedgeprops = { 'linewidth': 1, \"edgecolor\" :\"k\" })\n",
    "plt.title('Top 5 popular Genres')"
   ]
  },
  {
   "cell_type": "code",
   "execution_count": 311,
   "id": "b69fd81c",
   "metadata": {},
   "outputs": [
    {
     "data": {
      "text/html": [
       "<div>\n",
       "<style scoped>\n",
       "    .dataframe tbody tr th:only-of-type {\n",
       "        vertical-align: middle;\n",
       "    }\n",
       "\n",
       "    .dataframe tbody tr th {\n",
       "        vertical-align: top;\n",
       "    }\n",
       "\n",
       "    .dataframe thead th {\n",
       "        text-align: right;\n",
       "    }\n",
       "</style>\n",
       "<table border=\"1\" class=\"dataframe\">\n",
       "  <thead>\n",
       "    <tr style=\"text-align: right;\">\n",
       "      <th></th>\n",
       "      <th>fav_music_genre</th>\n",
       "      <th>Rank of Genres</th>\n",
       "    </tr>\n",
       "  </thead>\n",
       "  <tbody>\n",
       "    <tr>\n",
       "      <th>0</th>\n",
       "      <td>Melody</td>\n",
       "      <td>1.0</td>\n",
       "    </tr>\n",
       "    <tr>\n",
       "      <th>1</th>\n",
       "      <td>Pop</td>\n",
       "      <td>2.0</td>\n",
       "    </tr>\n",
       "    <tr>\n",
       "      <th>2</th>\n",
       "      <td>classical</td>\n",
       "      <td>3.0</td>\n",
       "    </tr>\n",
       "    <tr>\n",
       "      <th>3</th>\n",
       "      <td>Rap</td>\n",
       "      <td>4.0</td>\n",
       "    </tr>\n",
       "    <tr>\n",
       "      <th>4</th>\n",
       "      <td>Electronic/Dance</td>\n",
       "      <td>5.0</td>\n",
       "    </tr>\n",
       "    <tr>\n",
       "      <th>5</th>\n",
       "      <td>All</td>\n",
       "      <td>7.0</td>\n",
       "    </tr>\n",
       "    <tr>\n",
       "      <th>6</th>\n",
       "      <td>Kpop</td>\n",
       "      <td>7.0</td>\n",
       "    </tr>\n",
       "    <tr>\n",
       "      <th>7</th>\n",
       "      <td>Rock</td>\n",
       "      <td>8.0</td>\n",
       "    </tr>\n",
       "  </tbody>\n",
       "</table>\n",
       "</div>"
      ],
      "text/plain": [
       "    fav_music_genre  Rank of Genres\n",
       "0            Melody             1.0\n",
       "1               Pop             2.0\n",
       "2         classical             3.0\n",
       "3               Rap             4.0\n",
       "4  Electronic/Dance             5.0\n",
       "5               All             7.0\n",
       "6              Kpop             7.0\n",
       "7              Rock             8.0"
      ]
     },
     "execution_count": 311,
     "metadata": {},
     "output_type": "execute_result"
    }
   ],
   "source": [
    "# Rank of Music genre based on Workout Session\n",
    "# Users listen these Genres during Workout Session\n",
    "# Melody genre is the top popular genre in general and also for workout session. So, adding melody to workout playlist could attract additional users\n",
    "\n",
    "(s[s['music_lis_frequency'].str.contains('Workout')])['fav_music_genre'].value_counts().rank(method='max',ascending=False).reset_index(name='Rank of Genres')\n"
   ]
  },
  {
   "cell_type": "code",
   "execution_count": 349,
   "id": "a4ed740d",
   "metadata": {},
   "outputs": [
    {
     "data": {
      "text/plain": [
       "Text(0.5, 1.0, 'Recommadation Rating')"
      ]
     },
     "execution_count": 349,
     "metadata": {},
     "output_type": "execute_result"
    },
    {
     "data": {
      "image/png": "[encoded data removed]",
      "text/plain": [
       "<Figure size 640x480 with 1 Axes>"
      ]
     },
     "metadata": {},
     "output_type": "display_data"
    }
   ],
   "source": [
    "# Average Recommandations rating \n",
    "color = ['grey', 'blue', 'purple', 'red', 'black','orange','green','teal','cyan','pink','brown']\n",
    "s.groupby('fav_music_genre')['music_recc_rating'].mean().round().plot.bar(color=color)\n",
    "\n",
    "plt.xlabel('Genres')\n",
    "plt.title('Recommadation Rating')"
   ]
  },
  {
   "cell_type": "code",
   "execution_count": 660,
   "id": "0167c481",
   "metadata": {},
   "outputs": [],
   "source": [
    "# Podcast Analysis \n",
    "# Crosstab \n",
    "#20-35 ie Early Adults has more traffic in both podcasts and music. Perfect age group to target by having specific ads"
   ]
  },
  {
   "cell_type": "code",
   "execution_count": 661,
   "id": "d64ff1a2",
   "metadata": {
    "scrolled": false
   },
   "outputs": [
    {
     "data": {
      "text/html": [
       "<div>\n",
       "<style scoped>\n",
       "    .dataframe tbody tr th:only-of-type {\n",
       "        vertical-align: middle;\n",
       "    }\n",
       "\n",
       "    .dataframe tbody tr th {\n",
       "        vertical-align: top;\n",
       "    }\n",
       "\n",
       "    .dataframe thead th {\n",
       "        text-align: right;\n",
       "    }\n",
       "</style>\n",
       "<table border=\"1\" class=\"dataframe\">\n",
       "  <thead>\n",
       "    <tr style=\"text-align: right;\">\n",
       "      <th>pod_lis_frequency</th>\n",
       "      <th>Daily</th>\n",
       "      <th>Never</th>\n",
       "      <th>Once a week</th>\n",
       "      <th>Rarely</th>\n",
       "      <th>Several times a week</th>\n",
       "    </tr>\n",
       "    <tr>\n",
       "      <th>Gender</th>\n",
       "      <th></th>\n",
       "      <th></th>\n",
       "      <th></th>\n",
       "      <th></th>\n",
       "      <th></th>\n",
       "    </tr>\n",
       "  </thead>\n",
       "  <tbody>\n",
       "    <tr>\n",
       "      <th>Female</th>\n",
       "      <td>14</td>\n",
       "      <td>85</td>\n",
       "      <td>75</td>\n",
       "      <td>156</td>\n",
       "      <td>61</td>\n",
       "    </tr>\n",
       "    <tr>\n",
       "      <th>Male</th>\n",
       "      <td>6</td>\n",
       "      <td>45</td>\n",
       "      <td>8</td>\n",
       "      <td>40</td>\n",
       "      <td>15</td>\n",
       "    </tr>\n",
       "    <tr>\n",
       "      <th>Others</th>\n",
       "      <td>0</td>\n",
       "      <td>0</td>\n",
       "      <td>8</td>\n",
       "      <td>5</td>\n",
       "      <td>2</td>\n",
       "    </tr>\n",
       "  </tbody>\n",
       "</table>\n",
       "</div>"
      ],
      "text/plain": [
       "pod_lis_frequency  Daily  Never  Once a week  Rarely  Several times a week\n",
       "Gender                                                                    \n",
       "Female                14     85           75     156                    61\n",
       "Male                   6     45            8      40                    15\n",
       "Others                 0      0            8       5                     2"
      ]
     },
     "execution_count": 661,
     "metadata": {},
     "output_type": "execute_result"
    }
   ],
   "source": [
    "pd.crosstab(s['Gender'], s['pod_lis_frequency']) #Crosstab for Gender and pod freq"
   ]
  },
  {
   "cell_type": "code",
   "execution_count": 518,
   "id": "49c661a0",
   "metadata": {},
   "outputs": [
    {
     "data": {
      "text/plain": [
       "fav_pod_genre\n",
       "Comedy                  107\n",
       "Lifestyle and Health    102\n",
       "Health and Fitness       78\n",
       "Sports                   51\n",
       "Food and cooking         20\n",
       "Name: count, dtype: int64"
      ]
     },
     "execution_count": 518,
     "metadata": {},
     "output_type": "execute_result"
    }
   ],
   "source": [
    "s['fav_pod_genre'].value_counts().head(5)"
   ]
  },
  {
   "cell_type": "code",
   "execution_count": 522,
   "id": "57978bb2",
   "metadata": {},
   "outputs": [],
   "source": [
    "lab= s['fav_pod_genre'].value_counts().head(5).index\n",
    "val= s['fav_pod_genre'].value_counts().head(5).values"
   ]
  },
  {
   "cell_type": "code",
   "execution_count": 602,
   "id": "e5cfd077",
   "metadata": {},
   "outputs": [
    {
     "data": {
      "text/plain": [
       "Text(0.5, 1.0, 'Top 5 popular Podcast Genres')"
      ]
     },
     "execution_count": 602,
     "metadata": {},
     "output_type": "execute_result"
    },
    {
     "data": {
      "image/png": "[encoded data removed]",
      "text/plain": [
       "<Figure size 640x480 with 1 Axes>"
      ]
     },
     "metadata": {},
     "output_type": "display_data"
    }
   ],
   "source": [
    "# Top 5 popular Podcast genres\n",
    "myexplode = [0.08, 0, 0, 0,0]\n",
    "plt.pie(val, labels=lab,autopct='%1.1f%%',explode=myexplode, shadow=True,wedgeprops = { 'linewidth': 0.5, \"edgecolor\" :\"k\" })\n",
    "\n",
    "plt.title('Top 5 popular Podcast Genres')"
   ]
  },
  {
   "cell_type": "code",
   "execution_count": 552,
   "id": "a00b95d4",
   "metadata": {
    "scrolled": true
   },
   "outputs": [
    {
     "data": {
      "text/plain": [
       "preffered_pod_format\n",
       "Story telling     39\n",
       "Conversational    20\n",
       "Interview         19\n",
       "Educational       12\n",
       "Name: count, dtype: int64"
      ]
     },
     "execution_count": 552,
     "metadata": {},
     "output_type": "execute_result"
    }
   ],
   "source": [
    "pod_frq['preffered_pod_format'].value_counts()"
   ]
  },
  {
   "cell_type": "code",
   "execution_count": 577,
   "id": "058cecb9",
   "metadata": {},
   "outputs": [
    {
     "data": {
      "text/plain": [
       "Text(0.5, 1.0, \"Frequent podcast users' choice\")"
      ]
     },
     "execution_count": 577,
     "metadata": {},
     "output_type": "execute_result"
    },
    {
     "data": {
      "image/png": "[encoded data removed]",
      "text/plain": [
       "<Figure size 640x480 with 1 Axes>"
      ]
     },
     "metadata": {},
     "output_type": "display_data"
    }
   ],
   "source": [
    "# Daily/ Several time podcast users' preferred type of podcast \n",
    "\n",
    "pod_frq= s[s['pod_lis_frequency'].str.contains('Daily|Several times a week', regex=True)]\n",
    "pod_frq['preffered_pod_format'].value_counts().plot(linestyle = 'dashed', c = 'blue').set_facecolor(\"lightgrey\")\n",
    "plt.xlabel('Preferred type of podcast')\n",
    "plt.legend()\n",
    "plt.title(\"Frequent podcast users' choice\")\n"
   ]
  },
  {
   "cell_type": "code",
   "execution_count": 531,
   "id": "36a80570",
   "metadata": {
    "scrolled": false
   },
   "outputs": [
    {
     "data": {
      "text/html": [
       "<div>\n",
       "<style scoped>\n",
       "    .dataframe tbody tr th:only-of-type {\n",
       "        vertical-align: middle;\n",
       "    }\n",
       "\n",
       "    .dataframe tbody tr th {\n",
       "        vertical-align: top;\n",
       "    }\n",
       "\n",
       "    .dataframe thead th {\n",
       "        text-align: right;\n",
       "    }\n",
       "</style>\n",
       "<table border=\"1\" class=\"dataframe\">\n",
       "  <thead>\n",
       "    <tr style=\"text-align: right;\">\n",
       "      <th></th>\n",
       "      <th>Age</th>\n",
       "      <th>Gender</th>\n",
       "      <th>spotify_usage_period</th>\n",
       "      <th>spotify_listening_device</th>\n",
       "      <th>spotify_subscription_plan</th>\n",
       "      <th>premium_sub_willingness</th>\n",
       "      <th>preffered_premium_plan</th>\n",
       "      <th>preferred_listening_content</th>\n",
       "      <th>fav_music_genre</th>\n",
       "      <th>music_time_slot</th>\n",
       "      <th>...</th>\n",
       "      <th>music_lis_frequency</th>\n",
       "      <th>music_expl_method</th>\n",
       "      <th>music_recc_rating</th>\n",
       "      <th>pod_lis_frequency</th>\n",
       "      <th>fav_pod_genre</th>\n",
       "      <th>preffered_pod_format</th>\n",
       "      <th>pod_host_preference</th>\n",
       "      <th>preffered_pod_duration</th>\n",
       "      <th>pod_variety_satisfaction</th>\n",
       "      <th>users</th>\n",
       "    </tr>\n",
       "  </thead>\n",
       "  <tbody>\n",
       "    <tr>\n",
       "      <th>0</th>\n",
       "      <td>20-35</td>\n",
       "      <td>Female</td>\n",
       "      <td>More than 2 years</td>\n",
       "      <td>Smart speakers or voice assistants</td>\n",
       "      <td>Free (ad-supported)</td>\n",
       "      <td>Yes</td>\n",
       "      <td>Family Plan-Rs 179/month</td>\n",
       "      <td>Podcast</td>\n",
       "      <td>Melody</td>\n",
       "      <td>Night</td>\n",
       "      <td>...</td>\n",
       "      <td>leisure time</td>\n",
       "      <td>Playlists</td>\n",
       "      <td>3</td>\n",
       "      <td>Daily</td>\n",
       "      <td>Comedy</td>\n",
       "      <td>Interview</td>\n",
       "      <td>Both</td>\n",
       "      <td>Both</td>\n",
       "      <td>Ok</td>\n",
       "      <td>NaN</td>\n",
       "    </tr>\n",
       "    <tr>\n",
       "      <th>1</th>\n",
       "      <td>12-20</td>\n",
       "      <td>Male</td>\n",
       "      <td>More than 2 years</td>\n",
       "      <td>Computer or laptop</td>\n",
       "      <td>Free (ad-supported)</td>\n",
       "      <td>Yes</td>\n",
       "      <td>Individual Plan- Rs 119/ month</td>\n",
       "      <td>Podcast</td>\n",
       "      <td>Rap</td>\n",
       "      <td>Afternoon</td>\n",
       "      <td>...</td>\n",
       "      <td>Workout session</td>\n",
       "      <td>Playlists</td>\n",
       "      <td>2</td>\n",
       "      <td>Several times a week</td>\n",
       "      <td>Comedy</td>\n",
       "      <td>Interview</td>\n",
       "      <td>Both</td>\n",
       "      <td>NaN</td>\n",
       "      <td>Satisfied</td>\n",
       "      <td>NaN</td>\n",
       "    </tr>\n",
       "    <tr>\n",
       "      <th>2</th>\n",
       "      <td>35-60</td>\n",
       "      <td>Others</td>\n",
       "      <td>6 months to 1 year</td>\n",
       "      <td>Smart speakers or voice assistants</td>\n",
       "      <td>Free (ad-supported)</td>\n",
       "      <td>Yes</td>\n",
       "      <td>Student Plan-Rs 59/month</td>\n",
       "      <td>Podcast</td>\n",
       "      <td>Pop</td>\n",
       "      <td>Night</td>\n",
       "      <td>...</td>\n",
       "      <td>Study Hours, While Traveling</td>\n",
       "      <td>Playlists</td>\n",
       "      <td>4</td>\n",
       "      <td>Once a week</td>\n",
       "      <td>Sports</td>\n",
       "      <td>Interview</td>\n",
       "      <td>NaN</td>\n",
       "      <td>Both</td>\n",
       "      <td>Satisfied</td>\n",
       "      <td>NaN</td>\n",
       "    </tr>\n",
       "    <tr>\n",
       "      <th>3</th>\n",
       "      <td>20-35</td>\n",
       "      <td>Female</td>\n",
       "      <td>1 year to 2 years</td>\n",
       "      <td>Smartphone, Smart speakers or voice assistants</td>\n",
       "      <td>Free (ad-supported)</td>\n",
       "      <td>No</td>\n",
       "      <td>NaN</td>\n",
       "      <td>Music</td>\n",
       "      <td>Melody</td>\n",
       "      <td>Night</td>\n",
       "      <td>...</td>\n",
       "      <td>Office hours, Workout session, leisure time</td>\n",
       "      <td>recommendations, Playlists</td>\n",
       "      <td>4</td>\n",
       "      <td>Never</td>\n",
       "      <td>NaN</td>\n",
       "      <td>NaN</td>\n",
       "      <td>NaN</td>\n",
       "      <td>NaN</td>\n",
       "      <td>Ok</td>\n",
       "      <td>NaN</td>\n",
       "    </tr>\n",
       "    <tr>\n",
       "      <th>4</th>\n",
       "      <td>20-35</td>\n",
       "      <td>Female</td>\n",
       "      <td>1 year to 2 years</td>\n",
       "      <td>Smartphone</td>\n",
       "      <td>Free (ad-supported)</td>\n",
       "      <td>No</td>\n",
       "      <td>NaN</td>\n",
       "      <td>Music</td>\n",
       "      <td>Melody</td>\n",
       "      <td>Night</td>\n",
       "      <td>...</td>\n",
       "      <td>leisure time</td>\n",
       "      <td>recommendations, Playlists</td>\n",
       "      <td>4</td>\n",
       "      <td>Rarely</td>\n",
       "      <td>Lifestyle and Health</td>\n",
       "      <td>Story telling</td>\n",
       "      <td>Well known individuals</td>\n",
       "      <td>Both</td>\n",
       "      <td>Ok</td>\n",
       "      <td>NaN</td>\n",
       "    </tr>\n",
       "  </tbody>\n",
       "</table>\n",
       "<p>5 rows × 21 columns</p>\n",
       "</div>"
      ],
      "text/plain": [
       "     Age  Gender spotify_usage_period  \\\n",
       "0  20-35  Female    More than 2 years   \n",
       "1  12-20    Male    More than 2 years   \n",
       "2  35-60  Others   6 months to 1 year   \n",
       "3  20-35  Female    1 year to 2 years   \n",
       "4  20-35  Female    1 year to 2 years   \n",
       "\n",
       "                         spotify_listening_device spotify_subscription_plan  \\\n",
       "0              Smart speakers or voice assistants       Free (ad-supported)   \n",
       "1                              Computer or laptop       Free (ad-supported)   \n",
       "2              Smart speakers or voice assistants       Free (ad-supported)   \n",
       "3  Smartphone, Smart speakers or voice assistants       Free (ad-supported)   \n",
       "4                                      Smartphone       Free (ad-supported)   \n",
       "\n",
       "  premium_sub_willingness          preffered_premium_plan  \\\n",
       "0                     Yes        Family Plan-Rs 179/month   \n",
       "1                     Yes  Individual Plan- Rs 119/ month   \n",
       "2                     Yes        Student Plan-Rs 59/month   \n",
       "3                      No                             NaN   \n",
       "4                      No                             NaN   \n",
       "\n",
       "  preferred_listening_content fav_music_genre music_time_slot  ...  \\\n",
       "0                     Podcast          Melody           Night  ...   \n",
       "1                     Podcast             Rap       Afternoon  ...   \n",
       "2                     Podcast             Pop           Night  ...   \n",
       "3                       Music          Melody           Night  ...   \n",
       "4                       Music          Melody           Night  ...   \n",
       "\n",
       "                           music_lis_frequency           music_expl_method  \\\n",
       "0                                 leisure time                   Playlists   \n",
       "1                              Workout session                   Playlists   \n",
       "2                 Study Hours, While Traveling                   Playlists   \n",
       "3  Office hours, Workout session, leisure time  recommendations, Playlists   \n",
       "4                                 leisure time  recommendations, Playlists   \n",
       "\n",
       "  music_recc_rating     pod_lis_frequency         fav_pod_genre  \\\n",
       "0                 3                 Daily                Comedy   \n",
       "1                 2  Several times a week                Comedy   \n",
       "2                 4           Once a week                Sports   \n",
       "3                 4                 Never                   NaN   \n",
       "4                 4                Rarely  Lifestyle and Health   \n",
       "\n",
       "  preffered_pod_format     pod_host_preference preffered_pod_duration  \\\n",
       "0            Interview                    Both                   Both   \n",
       "1            Interview                    Both                    NaN   \n",
       "2            Interview                     NaN                   Both   \n",
       "3                  NaN                     NaN                    NaN   \n",
       "4        Story telling  Well known individuals                   Both   \n",
       "\n",
       "  pod_variety_satisfaction users  \n",
       "0                       Ok   NaN  \n",
       "1                Satisfied   NaN  \n",
       "2                Satisfied   NaN  \n",
       "3                       Ok   NaN  \n",
       "4                       Ok   NaN  \n",
       "\n",
       "[5 rows x 21 columns]"
      ]
     },
     "execution_count": 531,
     "metadata": {},
     "output_type": "execute_result"
    }
   ],
   "source": [
    "s.head(5)"
   ]
  },
  {
   "cell_type": "code",
   "execution_count": 586,
   "id": "43884dab",
   "metadata": {},
   "outputs": [
    {
     "data": {
      "text/plain": [
       "pod_lis_frequency\n",
       "Rarely                  201\n",
       "Never                   130\n",
       "Once a week              91\n",
       "Several times a week     78\n",
       "Daily                    20\n",
       "Name: count, dtype: int64"
      ]
     },
     "execution_count": 586,
     "metadata": {},
     "output_type": "execute_result"
    }
   ],
   "source": [
    "s['pod_lis_frequency'].value_counts()"
   ]
  },
  {
   "cell_type": "code",
   "execution_count": 597,
   "id": "07d6cc48",
   "metadata": {},
   "outputs": [
    {
     "data": {
      "text/html": [
       "<div>\n",
       "<style scoped>\n",
       "    .dataframe tbody tr th:only-of-type {\n",
       "        vertical-align: middle;\n",
       "    }\n",
       "\n",
       "    .dataframe tbody tr th {\n",
       "        vertical-align: top;\n",
       "    }\n",
       "\n",
       "    .dataframe thead th {\n",
       "        text-align: right;\n",
       "    }\n",
       "</style>\n",
       "<table border=\"1\" class=\"dataframe\">\n",
       "  <thead>\n",
       "    <tr style=\"text-align: right;\">\n",
       "      <th>pod_variety_satisfaction</th>\n",
       "      <th>Dissatisfied</th>\n",
       "      <th>Ok</th>\n",
       "      <th>Satisfied</th>\n",
       "      <th>Very Dissatisfied</th>\n",
       "      <th>Very Satisfied</th>\n",
       "    </tr>\n",
       "    <tr>\n",
       "      <th>pod_lis_frequency</th>\n",
       "      <th></th>\n",
       "      <th></th>\n",
       "      <th></th>\n",
       "      <th></th>\n",
       "      <th></th>\n",
       "    </tr>\n",
       "  </thead>\n",
       "  <tbody>\n",
       "    <tr>\n",
       "      <th>Daily</th>\n",
       "      <td>1</td>\n",
       "      <td>4</td>\n",
       "      <td>7</td>\n",
       "      <td>0</td>\n",
       "      <td>8</td>\n",
       "    </tr>\n",
       "    <tr>\n",
       "      <th>Never</th>\n",
       "      <td>3</td>\n",
       "      <td>104</td>\n",
       "      <td>12</td>\n",
       "      <td>9</td>\n",
       "      <td>2</td>\n",
       "    </tr>\n",
       "    <tr>\n",
       "      <th>Once a week</th>\n",
       "      <td>6</td>\n",
       "      <td>44</td>\n",
       "      <td>35</td>\n",
       "      <td>1</td>\n",
       "      <td>5</td>\n",
       "    </tr>\n",
       "    <tr>\n",
       "      <th>Rarely</th>\n",
       "      <td>6</td>\n",
       "      <td>103</td>\n",
       "      <td>76</td>\n",
       "      <td>0</td>\n",
       "      <td>16</td>\n",
       "    </tr>\n",
       "    <tr>\n",
       "      <th>Several times a week</th>\n",
       "      <td>4</td>\n",
       "      <td>25</td>\n",
       "      <td>32</td>\n",
       "      <td>0</td>\n",
       "      <td>17</td>\n",
       "    </tr>\n",
       "  </tbody>\n",
       "</table>\n",
       "</div>"
      ],
      "text/plain": [
       "pod_variety_satisfaction  Dissatisfied   Ok  Satisfied  Very Dissatisfied  \\\n",
       "pod_lis_frequency                                                           \n",
       "Daily                                1    4          7                  0   \n",
       "Never                                3  104         12                  9   \n",
       "Once a week                          6   44         35                  1   \n",
       "Rarely                               6  103         76                  0   \n",
       "Several times a week                 4   25         32                  0   \n",
       "\n",
       "pod_variety_satisfaction  Very Satisfied  \n",
       "pod_lis_frequency                         \n",
       "Daily                                  8  \n",
       "Never                                  2  \n",
       "Once a week                            5  \n",
       "Rarely                                16  \n",
       "Several times a week                  17  "
      ]
     },
     "execution_count": 597,
     "metadata": {},
     "output_type": "execute_result"
    }
   ],
   "source": [
    "\n",
    "pd.crosstab(s['pod_lis_frequency'],s['pod_variety_satisfaction'])"
   ]
  },
  {
   "cell_type": "code",
   "execution_count": 656,
   "id": "e7f6f707",
   "metadata": {},
   "outputs": [
    {
     "data": {
      "text/plain": [
       "<matplotlib.legend.Legend at 0x177ace195d0>"
      ]
     },
     "execution_count": 656,
     "metadata": {},
     "output_type": "execute_result"
    },
    {
     "data": {
      "image/png": "[encoded data removed]",
      "text/plain": [
       "<Figure size 640x480 with 1 Axes>"
      ]
     },
     "metadata": {},
     "output_type": "display_data"
    }
   ],
   "source": [
    "\n",
    "pd.crosstab(s['pod_lis_frequency'],s['pod_variety_satisfaction']).plot.barh(width=0.75, align='edge').grid(color ='grey',linestyle ='-.', linewidth = 0.5)\n",
    "plt.xlabel('No_of_users')\n",
    "plt.title('Podcast Satisfaction Level')\n",
    "plt.legend(bbox_to_anchor=(1.0, 0.7))"
   ]
  },
  {
   "cell_type": "markdown",
   "id": "9b5cfc23",
   "metadata": {},
   "source": [
    "# Insights\n",
    "Music:\n",
    "20-35 ie Early Adults is the target audience because it has more users using Spotify\n",
    "Smartphone is popular device of choice. So, updating the smartphone version of application and adding more feature could be a right step in the direction\n",
    "Melody genre is the top popular genre in general and also for workout session. So, adding melody to Workout playlists could improve user listening activity\n",
    "Since, Early adults go for updated/ fresh music. So, old songs is amongst the lowest recommandation rating\n",
    "\n",
    "\n",
    "Podcasts:\n",
    "Comedy is the popular genre of Podcast while Story-telling being the preferred type of format\n",
    "The ratio of using to not using the podcast is high with around 390 users using podcast and 130 users never using it\n",
    "OK and Satified being the top levels of Satisfaction\n",
    "Very Dissatisfied being low\n",
    "So, the podcasts promotion is doing good but requires more content and advertisement to increase the Very satisfied Level\n"
   ]
  },
  {
   "cell_type": "code",
   "execution_count": null,
   "id": "5e99531d",
   "metadata": {},
   "outputs": [],
   "source": []
  }
 ],
 "metadata": {
  "kernelspec": {
   "display_name": "Python 3 (ipykernel)",
   "language": "python",
   "name": "python3"
  },
  "language_info": {
   "codemirror_mode": {
    "name": "ipython",
    "version": 3
   },
   "file_extension": ".py",
   "mimetype": "text/x-python",
   "name": "python",
   "nbconvert_exporter": "python",
   "pygments_lexer": "ipython3",
   "version": "3.11.5"
  }
 },
 "nbformat": 4,
 "nbformat_minor": 5
}
